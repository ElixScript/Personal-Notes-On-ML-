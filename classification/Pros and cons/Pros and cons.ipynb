{
 "cells": [
  {
   "cell_type": "markdown",
   "id": "2f3d06a2-ccf3-4e2b-9ef9-e2ff61287ccc",
   "metadata": {},
   "source": [
    "# pros and cons each classification model"
   ]
  },
  {
   "cell_type": "markdown",
   "id": "4b309d13-3046-4413-b479-0892c8195663",
   "metadata": {},
   "source": [
    "\r\n",
    "\r\n",
    "| **Classification Model**       | **Pros**                                                                 | **Cons**                                                                 |\r\n",
    "|---------------------------------|--------------------------------------------------------------------------|--------------------------------------------------------------------------|\r\n",
    "| **Logistic Regression**         | Probabilistic approach, provides information about statistical significance of features | The Logistic Regression assumptions |\r\n",
    "| **K-Nearest Neighbors (K-NN)**  | Simple to understand, fast and efficient                                 | Need to choose the number of neighbors \\(k\\)                             |\r\n",
    "| **Support Vector Machine (SVM)**| Performant, not biased by outliers, not sensitive to overfitting          | Not appropriate for nonlinear problems, not the best choice for a large number of features |\r\n",
    "| **Kernel SVM**                  | High performance on nonlinear problems, not biased by outliers, not sensitive to overfitting | Not the best choice for a large number of features, more complex          |\r\n",
    "| **Naive Bayes**                 | Efficient, not biased by outliers, works on nonlinear problems, probabilistic approach | Based on the assumption that features have the same statistical relevance |\r\n",
    "| **Decision Tree Classification**| Interpretability, no need for feature scaling, works on both linear/nonlinear problems | Poor results on too small datasets, overfitting can easily occur          |\r\n",
    "| **Random Forest Classification**| Powerful and accurate, good performance on many problems, including nonlinear | No interpretability, overfitting can easily occur, need to choose the number ofadjustments!"
   ]
  },
  {
   "cell_type": "code",
   "execution_count": null,
   "id": "25455c0d-7896-4bc9-ade5-2c927b7c4a7b",
   "metadata": {},
   "outputs": [],
   "source": []
  }
 ],
 "metadata": {
  "kernelspec": {
   "display_name": "Python 3 (ipykernel)",
   "language": "python",
   "name": "python3"
  },
  "language_info": {
   "codemirror_mode": {
    "name": "ipython",
    "version": 3
   },
   "file_extension": ".py",
   "mimetype": "text/x-python",
   "name": "python",
   "nbconvert_exporter": "python",
   "pygments_lexer": "ipython3",
   "version": "3.12.4"
  }
 },
 "nbformat": 4,
 "nbformat_minor": 5
}
